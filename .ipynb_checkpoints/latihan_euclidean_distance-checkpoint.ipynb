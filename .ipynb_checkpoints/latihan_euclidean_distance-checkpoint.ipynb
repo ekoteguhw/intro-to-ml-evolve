{
 "cells": [
  {
   "cell_type": "code",
   "execution_count": 5,
   "metadata": {},
   "outputs": [],
   "source": [
    "import numpy as np\n",
    "\n",
    "def euclidean_distance(a, b):\n",
    "    a = np.array(a)\n",
    "    b = np.array(b)\n",
    "    # hitung euclidean distance\n",
    "    c = np.subtract(a, b)\n",
    "    c_kuadrat = np.power(c,2)\n",
    "    jarak = np.sqrt(np.sum(c_kuadrat))\n",
    "    return jarak"
   ]
  },
  {
   "cell_type": "code",
   "execution_count": 6,
   "metadata": {},
   "outputs": [
    {
     "name": "stdout",
     "output_type": "stream",
     "text": [
      "jarak a & b =  7.416198487095663\n"
     ]
    }
   ],
   "source": [
    "# data\n",
    "a = [0, 0, 0, 0, 0]\n",
    "b = [1, 2, 3, 4, 5]\n",
    "\n",
    "jarak = euclidean_distance(a, b)\n",
    "print(\"jarak a & b = \", jarak)"
   ]
  },
  {
   "cell_type": "code",
   "execution_count": null,
   "metadata": {},
   "outputs": [],
   "source": []
  }
 ],
 "metadata": {
  "kernelspec": {
   "display_name": "Python 3",
   "language": "python",
   "name": "python3"
  },
  "language_info": {
   "codemirror_mode": {
    "name": "ipython",
    "version": 3
   },
   "file_extension": ".py",
   "mimetype": "text/x-python",
   "name": "python",
   "nbconvert_exporter": "python",
   "pygments_lexer": "ipython3",
   "version": "3.7.1"
  }
 },
 "nbformat": 4,
 "nbformat_minor": 2
}
